{
 "cells": [
  {
   "cell_type": "code",
   "execution_count": 1,
   "metadata": {},
   "outputs": [],
   "source": [
    "import re"
   ]
  },
  {
   "cell_type": "code",
   "execution_count": 30,
   "metadata": {},
   "outputs": [],
   "source": [
    "reporter_exclude_list = [\"(QL)\"]\n",
    "series_include_list = [\"(2d)\", \"(3d)\", \"(4th)\", \"(5th)\", \"(6th)\", \"(7th)\", \"(8th)\", \"(9th)\"]\n",
    "\n",
    "sample_citation_list_1 = \"[1990] ACS no 115 — [1990] SCJ No 115 (QL) — [1990] CarswellOnt 119 — JE 90-1684 — 11 WCB (2d) 342 — 50 CRR 206 — 60 CCC (3d) 161 — 80 CR (3d) 317 — 36 QAC 161 — 43 OAC 1 — AZ-90111118 — 116 NR 241\"\n",
    "sample_citation_list_2 = \"[1991] ACS no 83 — [1991] SCJ No 83 (QL) — [1991] SJ No 83 (QL) — [1991] CarswellAlta 192 — EYB 1991-66887 — JE 91-1713 — 14 WCB (2d) 266 — 18 CRR (2d) 210 — 68 CCC (3d) 1 — 8 CR (4th) 277 — 9 CR (4th) 277 — 120 AR 161 — 83 Alta LR (2d) 193 — [1992] 1 WWR 97 — 8 WAC 161 — AZ-91111102 — 130 NR 277\"\n",
    "sample_citation_list_3 = \"[1991] ACS no 90 — 31 MVR (2d) 137 — [1991] SCJ No 90 (QL) — [1991] CarswellBC 280 — JE 91-1764 — 14 WCB (2d) 206 — 7 CRR (2d) 1 — 5 BCAC 161 — 67 CCC (3d) 481 — 8 CR (4th) 82 — 61 BCLR (2d) 145 — 11 WAC 161 — AZ-91111105 — 131 NR 1\"\n",
    "sample_citation_list_4 = \"[1985] ACS no 74 — [1985] SCJ No 74 (QL) — [1985] CarswellOnt 887 — JE 86-88 — 17 Admin LR 89 — [1986] DLQ 89 — 7 CHRR 3102 — 9 CCEL 185 — 12 OAC 241 — 34 ACWS (2d) 109 — 23 DLR (4th) 321 — 64 NR 161 — 52 OR (2d) 799\""
   ]
  },
  {
   "attachments": {},
   "cell_type": "markdown",
   "metadata": {},
   "source": [
    "When the user copies a block of text from CanLII containing parallel citations, they tend to take the following format:\n",
    "\n",
    "> Year/Volume | Reporter | Pinpoint\n",
    "\n",
    "There are some exceptions. Specifically, a handful of reporters out of Quebec don't adopt this convention, which makes parsing these text blocks more difficult than it would be otherwise."
   ]
  },
  {
   "cell_type": "code",
   "execution_count": 32,
   "metadata": {},
   "outputs": [],
   "source": [
    "def isolate_parallel_citations(other_citations: str) -> str:\n",
    "    '''\n",
    "    The function returns a list of parallel citations inferred from a block\n",
    "    of text copied and pasted by the user.\n",
    "\n",
    "    When copied from CanLII, the function returns a list of (apparently\n",
    "    correct) parallel citations. The citations are separated by a long dash\n",
    "    (—) and are preceded by a space. The function splits the block of text\n",
    "    into a list of citations and removes the preceding space. The function\n",
    "    then removes any citation elements that are in the exclude list. So\n",
    "    far, this only includes the QuickLaw designation (QL). The function\n",
    "    must make a small adjustment to the year of the citation if Westlaw\n",
    "    reported the case.\n",
    "\n",
    "    For citations copied directly from Westlaw, the function will likely\n",
    "    only need to remove superfluous periods, after which point the\n",
    "    citations will likely be correct. This functionality will be added in\n",
    "    the near future.\n",
    "\n",
    "    The function presently doesn't distinguish between the various\n",
    "    items inside the string (e.g. the reporter, the year, the volume,\n",
    "    etc.). This will be added in the near future.\n",
    "    '''\n",
    "\n",
    "    # Creates a list of citation elements to exclude\n",
    "    # This list is (very likely) incomplete\n",
    "    reporter_exclude_list = [\"(QL)\"]\n",
    "\n",
    "    # Creates a list of parallel citations if the user copied the citations\n",
    "    # from CanLII\n",
    "    if \"—\" in other_citations:\n",
    "        reporter_list = other_citations.split(\"—\")\n",
    "        reporter_list = [item.strip() for item in reporter_list]\n",
    "    # Creates a list of parallel citations if the user copied the citations\n",
    "    # from Westlaw\n",
    "    if \",\" in other_citations:\n",
    "        reporter_list = other_citations.split(\",\")\n",
    "        reporter_list = [item.strip() for item in reporter_list]\n",
    "        # Remove all periods from the citation\n",
    "\n",
    "    reporter_list_parsed = []\n",
    "\n",
    "    # Parses the list of parallel citations\n",
    "    for citation in reporter_list:\n",
    "        # Splits the citation into a list\n",
    "        citation_split = citation.split(\" \")\n",
    "\n",
    "        # Light formatting\n",
    "        for item in citation_split:\n",
    "            # Remove items that are in the exclude list\n",
    "            if item in reporter_exclude_list:\n",
    "                citation_split.remove(item)\n",
    "                citation = \" \".join(citation_split)\n",
    "\n",
    "            # Remove brackets around a number if the next item is a string containing \"Carswell\"\n",
    "            # See McGill 9e 3.8.3\n",
    "            if item.startswith(\"[\") and \\\n",
    "                item.endswith(\"]\") and \\\n",
    "                citation_split[citation_split.index(item) + 1].startswith(\"Carswell\"):\n",
    "                citation_split[citation_split.index(item)] = item[1:-1]\n",
    "                citation = \" \".join(citation_split)\n",
    "\n",
    "        reporter_list_parsed.append(citation)\n",
    "\n",
    "    return reporter_list_parsed\n"
   ]
  },
  {
   "cell_type": "code",
   "execution_count": 55,
   "metadata": {},
   "outputs": [],
   "source": [
    "from api_calls import call_api_jurisprudence\n",
    "from data.mcgill.reporter_data import neutral_citations_ca,\\\n",
    "    preferred_reporters, authoritative_reporters\n",
    "\n",
    "def check_preferred_reporters(citation: str): # -> str:\n",
    "    '''\n",
    "    Checks to see which of the parallel citations are preferred. The\n",
    "    function evaluates each list item and determines whether the citation\n",
    "    is official, preferred, authoritative, unofficial, or unlisted. The\n",
    "    function reports on its findings, listing the citations in order of\n",
    "    preference, if any. The function assumes that the program has already\n",
    "    dealt with neutral citations.\n",
    "    '''\n",
    "    # Get the list of preferred reporter abbreviations from\n",
    "    # preferred_reporters and check to see if any of them are in the\n",
    "    # citation. If so, return \"preferred\"\n",
    "    # preferred_reports is a list of lists\n",
    "    preferred_reports = [item[0] for item in preferred_reporters]\n",
    "    authoritative_reports = [item[0] for item in authoritative_reporters]\n",
    "    print(authoritative_reporters)\n",
    "    preferred_reporters_located = []\n",
    "    authoritative_reporters_located = []\n",
    "    \n",
    "    for item in preferred_reports:\n",
    "        if f\" {item} \" in citation or f\" {item}-\" in citation:\n",
    "            preferred_reporters_located.append(item)\n",
    "    for item in authoritative_reports:\n",
    "        if f\" {item} \" in citation or f\" {item}-\" in citation:\n",
    "            authoritative_reporters_located.append(item)\n",
    "    \n",
    "    return preferred_reporters_located, authoritative_reporters_located\n"
   ]
  },
  {
   "cell_type": "code",
   "execution_count": null,
   "metadata": {},
   "outputs": [],
   "source": []
  },
  {
   "cell_type": "code",
   "execution_count": 57,
   "metadata": {},
   "outputs": [
    {
     "name": "stdout",
     "output_type": "stream",
     "text": [
      "[]\n",
      "([], [])\n",
      "[]\n",
      "([], [])\n",
      "[]\n",
      "([], [])\n",
      "[]\n",
      "([], [])\n",
      "[]\n",
      "([], [])\n",
      "[]\n",
      "([], [])\n",
      "[]\n",
      "([], [])\n",
      "[]\n",
      "([], [])\n",
      "[]\n",
      "([], [])\n",
      "[]\n",
      "([], [])\n",
      "[]\n",
      "([], [])\n",
      "[]\n",
      "(['AR'], [])\n",
      "[]\n",
      "(['Alta LR'], [])\n",
      "[]\n",
      "(['WWR'], [])\n",
      "[]\n",
      "([], [])\n",
      "[]\n",
      "([], [])\n",
      "[]\n",
      "([], [])\n"
     ]
    }
   ],
   "source": [
    "\n",
    "processed_citation_list_2 = isolate_parallel_citations(sample_citation_list_2)\n",
    "\n",
    "for citation in processed_citation_list_2:\n",
    "    print(check_preferred_reporters(citation))\n",
    "\n"
   ]
  }
 ],
 "metadata": {
  "kernelspec": {
   "display_name": "Python 3",
   "language": "python",
   "name": "python3"
  },
  "language_info": {
   "codemirror_mode": {
    "name": "ipython",
    "version": 3
   },
   "file_extension": ".py",
   "mimetype": "text/x-python",
   "name": "python",
   "nbconvert_exporter": "python",
   "pygments_lexer": "ipython3",
   "version": "3.10.4 (main, Nov 29 2022, 20:00:25) [GCC 9.4.0]"
  },
  "orig_nbformat": 4,
  "vscode": {
   "interpreter": {
    "hash": "3ad933181bd8a04b432d3370b9dc3b0662ad032c4dfaa4e4f1596c548f763858"
   }
  }
 },
 "nbformat": 4,
 "nbformat_minor": 2
}
